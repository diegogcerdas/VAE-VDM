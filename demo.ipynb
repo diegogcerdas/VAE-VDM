{
 "cells": [
  {
   "cell_type": "code",
   "execution_count": 3,
   "metadata": {},
   "outputs": [],
   "source": [
    "import sys\n",
    "sys.path.append(\"./src\")\n",
    "\n",
    "from models.vdm import VDM\n",
    "from models.vdm_unet import UNetVDM\n",
    "from models.encoder import Encoder\n",
    "from utils.training import Trainer\n",
    "from utils.evaluation import Evaluator\n",
    "from utils.logging import init_logger\n",
    "from utils.utils import (\n",
    "    Config,\n",
    "    make_cifar,\n",
    "    make_mnist,\n",
    ")\n",
    "from accelerate import Accelerator\n",
    "from accelerate.utils import set_seed\n",
    "import yaml\n",
    "import torch"
   ]
  },
  {
   "attachments": {},
   "cell_type": "markdown",
   "metadata": {},
   "source": [
    "# Load config file"
   ]
  },
  {
   "cell_type": "code",
   "execution_count": 2,
   "metadata": {},
   "outputs": [],
   "source": [
    "CONFIG_FILE = \"examples/config.yaml\"\n",
    "DATA_PATH = \"data\"\n",
    "\n",
    "with open(CONFIG_FILE, \"r\") as f:\n",
    "    cfg = Config(**yaml.safe_load(f))\n",
    "\n",
    "if cfg.use_mnist:\n",
    "    cfg.input_channels = 1\n",
    "    shape = (cfg.input_channels, 28, 28)\n",
    "    train_set = make_mnist(train=True, download=True, root_path=DATA_PATH)\n",
    "    validation_set = make_mnist(train=False, download=False, root_path=DATA_PATH)\n",
    "else:\n",
    "    cfg.input_channels = 3\n",
    "    shape = (cfg.input_channels, 32, 32)\n",
    "    train_set = make_cifar(train=True, download=True, root_path=DATA_PATH)\n",
    "    validation_set = make_cifar(train=False, download=False, root_path=DATA_PATH)\n",
    "\n",
    "set_seed(cfg.seed)\n",
    "\n",
    "model = UNetVDM(cfg)\n",
    "encoder = Encoder(shape, cfg) if cfg.use_encoder else None\n",
    "diffusion = VDM(model, cfg, image_shape=shape, encoder=encoder)"
   ]
  },
  {
   "attachments": {},
   "cell_type": "markdown",
   "metadata": {},
   "source": [
    "# Training a model"
   ]
  },
  {
   "cell_type": "code",
   "execution_count": null,
   "metadata": {},
   "outputs": [],
   "source": [
    "accelerator = Accelerator(split_batches=True)\n",
    "init_logger(accelerator)\n",
    "\n",
    "Trainer(\n",
    "    diffusion,\n",
    "    train_set,\n",
    "    validation_set,\n",
    "    accelerator,\n",
    "    make_opt=lambda params: torch.optim.AdamW(\n",
    "        params, cfg.lr, betas=(0.9, 0.99), weight_decay=cfg.weight_decay, eps=1e-8\n",
    "    ),\n",
    "    config=cfg,\n",
    ").train()"
   ]
  },
  {
   "attachments": {},
   "cell_type": "markdown",
   "metadata": {},
   "source": [
    "# Evaluating a model"
   ]
  },
  {
   "cell_type": "code",
   "execution_count": null,
   "metadata": {},
   "outputs": [],
   "source": [
    "Evaluator(\n",
    "    diffusion,\n",
    "    train_set,\n",
    "    validation_set,\n",
    "    config=cfg,\n",
    ").eval()"
   ]
  }
 ],
 "metadata": {
  "kernelspec": {
   "display_name": "dl2",
   "language": "python",
   "name": "python3"
  },
  "language_info": {
   "codemirror_mode": {
    "name": "ipython",
    "version": 3
   },
   "file_extension": ".py",
   "mimetype": "text/x-python",
   "name": "python",
   "nbconvert_exporter": "python",
   "pygments_lexer": "ipython3",
   "version": "3.9.16"
  },
  "orig_nbformat": 4
 },
 "nbformat": 4,
 "nbformat_minor": 2
}
